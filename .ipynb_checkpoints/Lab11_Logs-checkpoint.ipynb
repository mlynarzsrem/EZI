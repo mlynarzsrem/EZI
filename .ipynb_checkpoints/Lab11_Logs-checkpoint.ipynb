{
 "cells": [
  {
   "cell_type": "code",
   "execution_count": 1,
   "metadata": {},
   "outputs": [],
   "source": [
    "%matplotlib inline\n",
    "import numpy as np\n",
    "import matplotlib.pyplot as plt\n",
    "import datetime"
   ]
  },
  {
   "cell_type": "markdown",
   "metadata": {},
   "source": [
    "1) Log file is loaded"
   ]
  },
  {
   "cell_type": "code",
   "execution_count": 2,
   "metadata": {},
   "outputs": [
    {
     "name": "stdout",
     "output_type": "stream",
     "text": [
      "156.15.13.173 [01/Jan/2018:11:13:49 +0100] \"GET AddProduct.html HTTP/1.0\" 200 2356\n",
      "176.247.135.49 [01/Jan/2018:11:18:07 +0100] \"GET Shop.html HTTP/1.0\" 200 7466\n",
      "176.247.135.49 [01/Jan/2018:11:19:05 +0100] \"GET AddProduct.html HTTP/1.0\" 200 2356\n"
     ]
    }
   ],
   "source": [
    "file = open(\"log.txt\", \"r\") \n",
    "lines = file.readlines()\n",
    "for l in range(3): print(lines[l][:-1])"
   ]
  },
  {
   "cell_type": "markdown",
   "metadata": {},
   "source": [
    "2) Cass \"Request\" parses and keeps data of a single requests. Complete the TODO, where a given \"line\" (string) should be parsed in order to dervie the ip of the host making the request, time of the request (in seconds), and target page (name)."
   ]
  },
  {
   "cell_type": "code",
   "execution_count": 3,
   "metadata": {},
   "outputs": [],
   "source": [
    "class Request:\n",
    "    def __init__(self, line):\n",
    "        # TODO DO PARSING HERE\n",
    "        line = line.replace(\"[\",\"\")\n",
    "        line = line.replace(\"]\",\"\")\n",
    "        args = line.split(\" \")\n",
    "        self.ip = args[0]\n",
    "        date = args[1].split(\":\")\n",
    "        # convert hours + minutes + seconds -> total number of seconds\n",
    "        self.time =int(date[1]) *60 *60 +int(date[2])*60 + int(date[3])\n",
    "        self.page = args[4]\n",
    "        \n",
    "    def __repr__(self):\n",
    "        return self.ip + \"     \" +  str(datetime.timedelta(seconds=self.time)) + \" -> \" + self.page\n"
   ]
  },
  {
   "cell_type": "markdown",
   "metadata": {},
   "source": [
    "3) Each line of log.txt is parsed and the Request objects are added to the list"
   ]
  },
  {
   "cell_type": "code",
   "execution_count": 4,
   "metadata": {},
   "outputs": [
    {
     "name": "stdout",
     "output_type": "stream",
     "text": [
      "156.15.13.173     11:13:49 -> AddProduct.html\n",
      "176.247.135.49     11:18:07 -> Shop.html\n",
      "176.247.135.49     11:19:05 -> AddProduct.html\n",
      "176.247.135.49     11:29:05 -> Summary.html\n",
      "69.84.30.199     11:43:59 -> Shop.html\n",
      "69.84.30.199     11:45:16 -> AddProduct.html\n",
      "57.116.45.120     11:46:45 -> AddProduct.html\n",
      "69.84.30.199     11:50:36 -> Summary.html\n",
      "69.84.30.199     11:52:38 -> Payment.html\n",
      "26.19.183.202     11:53:11 -> AddProduct.html\n"
     ]
    }
   ],
   "source": [
    "reqs = [Request(line) for line in lines]\n",
    "for l in range(10): print(reqs[l]) "
   ]
  },
  {
   "cell_type": "markdown",
   "metadata": {},
   "source": [
    "# Exercise"
   ]
  },
  {
   "cell_type": "markdown",
   "metadata": {},
   "source": [
    "Your task is to analyze the log file. You should indentify the users and sessions. Then, compute the following: <br>\n",
    "3.1) the number of sessions (should be 1000 :) ), <br>\n",
    "3.2) the number of users, <br>\n",
    "3.3) the average number of sessions per one user <br>\n",
    "3.4) use the distribution plot to visualize the sessions' lengths (minutes);  <br>\n",
    "3.5) use the distribution plot to visualize the sessions' lengths (the number of requests) <br>\n",
    "3.6) use the distribution plot to visualize sessions' starting times (hours). <br>\n",
    "3.7) which web page is the most common entry point?; for each page plot the number of times it has been an entry page,  <br>\n",
    "3.8) which web page is the most common departure point?; for each page plot the number of times the user stopped a session while being on this page, <br>\n",
    "3.9) for each page plot the average time the user stayed on this page <br>\n",
    "3.10) print the fist 10 sessions (paths). <br>\n",
    "\n",
    "You may find the following classes helpful and data."
   ]
  },
  {
   "cell_type": "code",
   "execution_count": 5,
   "metadata": {},
   "outputs": [],
   "source": [
    "class Session:\n",
    "    def __init__(self):\n",
    "        self.startTime = 0\n",
    "        self.stopTime = 0\n",
    "        self.requests = []\n",
    "        \n",
    "    def __repr__(self):\n",
    "        print(\"SESSION\")\n",
    "        print(self.startTime)\n",
    "        print(self.stopTime)\n",
    "        STR = \"\"\n",
    "        for r in self.requests:\n",
    "            print(r)\n",
    "            STR += (\"  \" + r.page + \"    \" + str(datetime.timedelta(seconds=r.time)) + \"\\n\")\n",
    "        return STR\n",
    "\n",
    "class Computer:\n",
    "    def __init__(self):\n",
    "        self.ip = []\n",
    "        self.sessions = []\n",
    "    def __repr__(self):\n",
    "        return self.ip\n",
    "\n",
    "PAGES = [\"Shop.html\", \"AddProduct.html\", \"Summary.html\", \"Payment.html\",\"About.html\", \"Contact.html\"]\n",
    "\n",
    "LINKS = [[1, 4],\n",
    "         [2,4],\n",
    "         [3],\n",
    "         [],\n",
    "         [1,5],\n",
    "         []]\n",
    "\n",
    "#plot distribution\n",
    "#count, bins, ignored = plt.hist(data, 50, alpha=0.5, normed=True)\n",
    "#plt.plot()\n",
    "\n",
    "#x_axis = np.arange(len(pages))\n",
    "#plt.bar(x_axis, data, align='center', alpha=0.5)\n",
    "#plt.xticks(y_pos, pages, rotation=90)"
   ]
  },
  {
   "cell_type": "code",
   "execution_count": 6,
   "metadata": {},
   "outputs": [
    {
     "name": "stdout",
     "output_type": "stream",
     "text": [
      "Sessions: 972\n",
      "Users: 391\n",
      "Average of session per one user: 2.4859335038363173\n"
     ]
    }
   ],
   "source": [
    "def minBetween(t1,t2):\n",
    "    return abs(t1 -t2)/float(60)\n",
    "def haveLink(p1,p2):\n",
    "    idxP1 = PAGES.index(p1)\n",
    "    idxP2 = PAGES.index(p2) \n",
    "    if(idxP2 in  LINKS[idxP1]):\n",
    "        return True\n",
    "    else:\n",
    "        return False\n",
    "sessions = []\n",
    "computers = []\n",
    "ips = list(set([r.ip for r in reqs]))\n",
    "for ip in ips:\n",
    "    comp = Computer()\n",
    "    comp.ip = ip\n",
    "    sess = Session()\n",
    "    myReqs = [r for r in reqs if r.ip==ip]\n",
    "    for r in myReqs:\n",
    "        if(len(sess.requests)==0):\n",
    "            sess.startTime = r.time\n",
    "            sess.requests.append(r)\n",
    "        else:\n",
    "            lTime =sess.requests[-1].time\n",
    "            prevPage = sess.requests[-1].page\n",
    "            if((minBetween(r.time,lTime)>10  or minBetween(r.time,sess.startTime)>30) and haveLink(prevPage,r.page)==False):\n",
    "                sess.stopTime = lTime\n",
    "                comp.sessions.append(sess)\n",
    "                sessions.append(sess)\n",
    "                sess = Session()\n",
    "                sess.startTime = r.time\n",
    "                sess.requests.append(r)\n",
    "            else:\n",
    "                sess.requests.append(r)\n",
    "    if(len(sess.requests)!=0):\n",
    "        lTime =sess.requests[-1].time\n",
    "        sess.stopTime =lTime\n",
    "        sess.requests.append(r)\n",
    "        comp.sessions.append(sess)\n",
    "        sessions.append(sess)\n",
    "        sess = Session()                \n",
    "\n",
    "    computers.append(comp)\n",
    "            \n",
    "sessCount = len(sessions)\n",
    "print(\"Sessions: \"+str(sessCount))\n",
    "print(\"Users: \"+str(len(ips)))\n",
    "print(\"Average of session per one user: \"+str(sessCount/float(len(ips))))"
   ]
  },
  {
   "cell_type": "code",
   "execution_count": 7,
   "metadata": {},
   "outputs": [
    {
     "data": {
      "text/plain": [
       "[]"
      ]
     },
     "execution_count": 7,
     "metadata": {},
     "output_type": "execute_result"
    },
    {
     "data": {
      "image/png": "[encoded data removed]",
      "text/plain": [
       "<matplotlib.figure.Figure at 0x2919d10c2b0>"
      ]
     },
     "metadata": {},
     "output_type": "display_data"
    }
   ],
   "source": [
    "timeStamps = []\n",
    "for s in sessions:\n",
    "    bTime =s.startTime\n",
    "    eTime = s.stopTime\n",
    "    l =minBetween(bTime,eTime)\n",
    "    timeStamps.append(l)\n",
    "count, bins, ignored = plt.hist(timeStamps, 50, alpha=0.5, normed=False)\n",
    "plt.plot()"
   ]
  },
  {
   "cell_type": "code",
   "execution_count": 8,
   "metadata": {},
   "outputs": [
    {
     "name": "stdout",
     "output_type": "stream",
     "text": [
      "SESSION\n",
      "46905\n",
      "46974\n",
      "152.13.206.67     13:01:45 -> Shop.html\n",
      "152.13.206.67     13:02:54 -> About.html\n",
      "  Shop.html    13:01:45\n",
      "  About.html    13:02:54\n",
      "\n",
      "SESSION\n",
      "56114\n",
      "73450\n",
      "152.13.206.67     15:35:14 -> Shop.html\n",
      "152.13.206.67     15:36:31 -> About.html\n",
      "152.13.206.67     20:24:10 -> AddProduct.html\n",
      "152.13.206.67     20:24:10 -> AddProduct.html\n",
      "  Shop.html    15:35:14\n",
      "  About.html    15:36:31\n",
      "  AddProduct.html    20:24:10\n",
      "  AddProduct.html    20:24:10\n",
      "\n",
      "SESSION\n",
      "56317\n",
      "56888\n",
      "89.197.38.229     15:38:37 -> Shop.html\n",
      "89.197.38.229     15:40:02 -> About.html\n",
      "89.197.38.229     15:48:08 -> Contact.html\n",
      "  Shop.html    15:38:37\n",
      "  About.html    15:40:02\n",
      "  Contact.html    15:48:08\n",
      "\n",
      "SESSION\n",
      "64032\n",
      "64656\n",
      "89.197.38.229     17:47:12 -> Shop.html\n",
      "89.197.38.229     17:48:17 -> AddProduct.html\n",
      "89.197.38.229     17:55:28 -> Summary.html\n",
      "89.197.38.229     17:57:36 -> Payment.html\n",
      "  Shop.html    17:47:12\n",
      "  AddProduct.html    17:48:17\n",
      "  Summary.html    17:55:28\n",
      "  Payment.html    17:57:36\n",
      "\n",
      "SESSION\n",
      "69934\n",
      "70002\n",
      "89.197.38.229     19:25:34 -> Shop.html\n",
      "89.197.38.229     19:26:42 -> AddProduct.html\n",
      "89.197.38.229     19:26:42 -> AddProduct.html\n",
      "  Shop.html    19:25:34\n",
      "  AddProduct.html    19:26:42\n",
      "  AddProduct.html    19:26:42\n",
      "\n",
      "SESSION\n",
      "58877\n",
      "59394\n",
      "117.50.240.28     16:21:17 -> AddProduct.html\n",
      "117.50.240.28     16:27:47 -> Summary.html\n",
      "117.50.240.28     16:29:54 -> Payment.html\n",
      "  AddProduct.html    16:21:17\n",
      "  Summary.html    16:27:47\n",
      "  Payment.html    16:29:54\n",
      "\n",
      "SESSION\n",
      "62898\n",
      "63528\n",
      "117.50.240.28     17:28:18 -> AddProduct.html\n",
      "117.50.240.28     17:36:44 -> Summary.html\n",
      "117.50.240.28     17:38:48 -> Payment.html\n",
      "  AddProduct.html    17:28:18\n",
      "  Summary.html    17:36:44\n",
      "  Payment.html    17:38:48\n",
      "\n",
      "SESSION\n",
      "67163\n",
      "67641\n",
      "117.50.240.28     18:39:23 -> AddProduct.html\n",
      "117.50.240.28     18:45:24 -> Summary.html\n",
      "117.50.240.28     18:47:21 -> Payment.html\n",
      "117.50.240.28     18:47:21 -> Payment.html\n",
      "  AddProduct.html    18:39:23\n",
      "  Summary.html    18:45:24\n",
      "  Payment.html    18:47:21\n",
      "  Payment.html    18:47:21\n",
      "\n",
      "SESSION\n",
      "69148\n",
      "69224\n",
      "40.172.48.226     19:12:28 -> Shop.html\n",
      "40.172.48.226     19:13:44 -> AddProduct.html\n",
      "40.172.48.226     19:13:44 -> AddProduct.html\n",
      "  Shop.html    19:12:28\n",
      "  AddProduct.html    19:13:44\n",
      "  AddProduct.html    19:13:44\n",
      "\n",
      "SESSION\n",
      "50107\n",
      "50938\n",
      "176.158.49.150     13:55:07 -> Shop.html\n",
      "176.158.49.150     13:56:44 -> About.html\n",
      "176.158.49.150     14:08:58 -> Contact.html\n",
      "  Shop.html    13:55:07\n",
      "  About.html    13:56:44\n",
      "  Contact.html    14:08:58\n",
      "\n"
     ]
    }
   ],
   "source": [
    "for s in sessions[:10]:\n",
    "    print(s)"
   ]
  },
  {
   "cell_type": "code",
   "execution_count": 9,
   "metadata": {},
   "outputs": [
    {
     "data": {
      "text/plain": [
       "[]"
      ]
     },
     "execution_count": 9,
     "metadata": {},
     "output_type": "execute_result"
    },
    {
     "data": {
      "image/png": "[encoded data removed]",
      "text/plain": [
       "<matplotlib.figure.Figure at 0x2919f1efd68>"
      ]
     },
     "metadata": {},
     "output_type": "display_data"
    }
   ],
   "source": [
    "sessionLenghts = []\n",
    "for s in sessions:\n",
    "    sessionLenghts.append(len(s.requests))\n",
    "count, bins, ignored = plt.hist(sessionLenghts, 50, alpha=0.5, normed=False)\n",
    "plt.plot()"
   ]
  },
  {
   "cell_type": "code",
   "execution_count": 10,
   "metadata": {},
   "outputs": [
    {
     "name": "stdout",
     "output_type": "stream",
     "text": [
      "[('AddProduct.html', 726), ('Shop.html', 690), ('Summary.html', 339), ('About.html', 336), ('Payment.html', 268), ('Contact.html', 200)]\n"
     ]
    }
   ],
   "source": [
    "from collections import Counter\n",
    "pages =[r.page for r in reqs ]\n",
    "pageCount = Counter(pages)\n",
    "print(pageCount.most_common())"
   ]
  },
  {
   "cell_type": "code",
   "execution_count": 11,
   "metadata": {},
   "outputs": [
    {
     "name": "stdout",
     "output_type": "stream",
     "text": [
      "[('Shop.html', 690), ('AddProduct.html', 282)]\n"
     ]
    },
    {
     "data": {
      "text/plain": [
       "([<matplotlib.axis.XTick at 0x2919f39b898>,\n",
       "  <matplotlib.axis.XTick at 0x2919f396438>],\n",
       " <a list of 2 Text xticklabel objects>)"
      ]
     },
     "execution_count": 11,
     "metadata": {},
     "output_type": "execute_result"
    },
    {
     "data": {
      "image/png": "[encoded data removed]",
      "text/plain": [
       "<matplotlib.figure.Figure at 0x2919f2e4da0>"
      ]
     },
     "metadata": {},
     "output_type": "display_data"
    }
   ],
   "source": [
    "entryPoints =[s.requests[0].page for s in sessions ]\n",
    "pageCount = Counter(entryPoints)\n",
    "print(pageCount.most_common())\n",
    "data = pageCount.values()\n",
    "pages = pageCount.keys()\n",
    "x_axis = np.arange(len(pages))\n",
    "plt.bar(x_axis, data, align='center', alpha=0.5)\n",
    "plt.xticks(x_axis, pages, rotation=90)"
   ]
  },
  {
   "cell_type": "code",
   "execution_count": 12,
   "metadata": {},
   "outputs": [
    {
     "name": "stdout",
     "output_type": "stream",
     "text": [
      "[('AddProduct.html', 302), ('Payment.html', 268), ('Contact.html', 200), ('About.html', 78), ('Summary.html', 71), ('Shop.html', 53)]\n"
     ]
    },
    {
     "data": {
      "text/plain": [
       "([<matplotlib.axis.XTick at 0x2919f3e4588>,\n",
       "  <matplotlib.axis.XTick at 0x2919d10c518>,\n",
       "  <matplotlib.axis.XTick at 0x2919f3ce780>,\n",
       "  <matplotlib.axis.XTick at 0x2919f41a208>,\n",
       "  <matplotlib.axis.XTick at 0x2919f41a860>,\n",
       "  <matplotlib.axis.XTick at 0x2919f41aef0>],\n",
       " <a list of 6 Text xticklabel objects>)"
      ]
     },
     "execution_count": 12,
     "metadata": {},
     "output_type": "execute_result"
    },
    {
     "data": {
      "image/png": "[encoded data removed]",
      "text/plain": [
       "<matplotlib.figure.Figure at 0x2919f39bb38>"
      ]
     },
     "metadata": {},
     "output_type": "display_data"
    }
   ],
   "source": [
    "depPoints =[s.requests[-1].page for s in sessions ]\n",
    "pageCount = Counter(depPoints)\n",
    "print(pageCount.most_common())\n",
    "data = pageCount.values()\n",
    "pages = pageCount.keys()\n",
    "x_axis = np.arange(len(pages))\n",
    "plt.bar(x_axis, data, align='center', alpha=0.5)\n",
    "plt.xticks(x_axis, pages, rotation=90)"
   ]
  },
  {
   "cell_type": "code",
   "execution_count": 13,
   "metadata": {},
   "outputs": [
    {
     "data": {
      "text/plain": [
       "[]"
      ]
     },
     "execution_count": 13,
     "metadata": {},
     "output_type": "execute_result"
    },
    {
     "data": {
      "image/png": "[encoded data removed]",
      "text/plain": [
       "<matplotlib.figure.Figure at 0x2919f3f3c18>"
      ]
     },
     "metadata": {},
     "output_type": "display_data"
    }
   ],
   "source": [
    "sessionHours = []\n",
    "for s in sessions:\n",
    "    sessionLenghts.append(s.startTime/float(3600))\n",
    "count, bins, ignored = plt.hist(sessionLenghts, 50, alpha=0.5, normed=False)\n",
    "plt.plot()"
   ]
  },
  {
   "cell_type": "code",
   "execution_count": 14,
   "metadata": {},
   "outputs": [
    {
     "data": {
      "text/plain": [
       "([<matplotlib.axis.XTick at 0x2919f511710>,\n",
       "  <matplotlib.axis.XTick at 0x2919f511978>,\n",
       "  <matplotlib.axis.XTick at 0x2919f51e208>,\n",
       "  <matplotlib.axis.XTick at 0x2919f5532e8>,\n",
       "  <matplotlib.axis.XTick at 0x2919f553940>,\n",
       "  <matplotlib.axis.XTick at 0x2919f553fd0>],\n",
       " <a list of 6 Text xticklabel objects>)"
      ]
     },
     "execution_count": 14,
     "metadata": {},
     "output_type": "execute_result"
    },
    {
     "data": {
      "image/png": "[encoded data removed]",
      "text/plain": [
       "<matplotlib.figure.Figure at 0x2919f4ce7b8>"
      ]
     },
     "metadata": {},
     "output_type": "display_data"
    }
   ],
   "source": [
    "timeOnPages ={}\n",
    "for s in sessions:\n",
    "    reqs = s.requests\n",
    "    for i in range(len(reqs)):\n",
    "        curPage = reqs[i].page\n",
    "        if(curPage not in timeOnPages):\n",
    "            timeOnPages[curPage]=0\n",
    "        if(i+1<len(reqs)):\n",
    "            timeOnPages[curPage] += abs(reqs[i+1].time -reqs[i].time)\n",
    "            \n",
    "            \n",
    "times = timeOnPages.values()\n",
    "pages = timeOnPages.keys()\n",
    "x_axis = np.arange(len(pages))\n",
    "plt.bar(x_axis, times, align='center', alpha=0.5)\n",
    "plt.xticks(x_axis, pages, rotation=90)"
   ]
  }
 ],
 "metadata": {
  "kernelspec": {
   "display_name": "Python 3",
   "language": "python",
   "name": "python3"
  },
  "language_info": {
   "codemirror_mode": {
    "name": "ipython",
    "version": 3
   },
   "file_extension": ".py",
   "mimetype": "text/x-python",
   "name": "python",
   "nbconvert_exporter": "python",
   "pygments_lexer": "ipython3",
   "version": "3.6.4"
  }
 },
 "nbformat": 4,
 "nbformat_minor": 2
}
